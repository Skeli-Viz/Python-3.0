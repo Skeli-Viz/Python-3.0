{
 "cells": [
  {
   "cell_type": "markdown",
   "id": "08f1c51f",
   "metadata": {
    "pycharm": {
     "name": "#%% md\n"
    }
   },
   "source": [
    "# Домашнє завдання до теми \"Python Basics\"\n",
    "В цьому ДЗ важливою умовою виконання завдань є те, що ми не імпортуємо жодних бібліотек, а робимо все на чистому Python, використовуючи лише базовий функціонал. Це необхідно аби відпрацювати роботу з базовими типами даних. А використовувати бібліотеки ми ще навчимось далі :)"
   ]
  },
  {
   "cell_type": "markdown",
   "id": "0f3e7772",
   "metadata": {
    "pycharm": {
     "name": "#%% md\n"
    }
   },
   "source": [
    "## Робота з числами та арифметичними операторами"
   ]
  },
  {
   "cell_type": "markdown",
   "id": "b2a2e2a5",
   "metadata": {
    "ExecuteTime": {
     "end_time": "2023-05-26T10:30:07.427381Z",
     "start_time": "2023-05-26T10:30:07.416247Z"
    }
   },
   "source": [
    "1.Створіть змінну, яка буде зберігати кількість яблук. І надайте їй значення 5. Виведіть значення змінної на екран."
   ]
  },
  {
   "cell_type": "code",
   "execution_count": 2,
   "id": "c2b60bbe",
   "metadata": {
    "ExecuteTime": {
     "end_time": "2023-05-26T10:11:10.553841Z",
     "start_time": "2023-05-26T10:11:10.550848Z"
    }
   },
   "outputs": [],
   "source": [
    "apples = 5"
   ]
  },
  {
   "cell_type": "code",
   "execution_count": 3,
   "id": "a95672bf",
   "metadata": {},
   "outputs": [
    {
     "data": {
      "text/plain": [
       "5"
      ]
     },
     "execution_count": 3,
     "metadata": {},
     "output_type": "execute_result"
    }
   ],
   "source": [
    "apples"
   ]
  },
  {
   "cell_type": "code",
   "execution_count": null,
   "id": "5d88d8d0",
   "metadata": {},
   "outputs": [],
   "source": []
  },
  {
   "cell_type": "markdown",
   "id": "22291667",
   "metadata": {},
   "source": [
    "2.Виведіть тип змінної, створеної в завданні (1)."
   ]
  },
  {
   "cell_type": "code",
   "execution_count": 4,
   "id": "7982a09a",
   "metadata": {},
   "outputs": [
    {
     "data": {
      "text/plain": [
       "int"
      ]
     },
     "execution_count": 4,
     "metadata": {},
     "output_type": "execute_result"
    }
   ],
   "source": [
    "type(apples)"
   ]
  },
  {
   "cell_type": "markdown",
   "id": "d43e1e57",
   "metadata": {},
   "source": [
    "3.Додайте до значення змінної, створеної в завданні (1) число `12` і виведіть результат на екран з допомогою команди `print()`."
   ]
  },
  {
   "cell_type": "code",
   "execution_count": 5,
   "id": "42729777",
   "metadata": {},
   "outputs": [],
   "source": [
    "apples = apples + 12"
   ]
  },
  {
   "cell_type": "code",
   "execution_count": 6,
   "id": "c405fc8d",
   "metadata": {},
   "outputs": [
    {
     "name": "stdout",
     "output_type": "stream",
     "text": [
      "17\n"
     ]
    }
   ],
   "source": [
    "print(apples)"
   ]
  },
  {
   "cell_type": "markdown",
   "id": "0be48f79",
   "metadata": {
    "pycharm": {
     "name": "#%% md\n"
    }
   },
   "source": [
    "4.Створіть змінні `a`, `b`, `c` та `d`, задайте їм значення відповідно 101, 210, 111, 402, та обчисліть з допомогою Python наступний вираз:  $$ \\frac{(a+b) * c}{d} $$\n",
    "\n",
    "**Важливо**: тут ми маємо обчислити значення саме з використанням змінних, а не просто чисел, як би ми робили у калькуряторі. Змінні потрібні аби за бажання ми могли змінити їх значення та не переписувати код обчислення виразу, бо він буде працювати для різних значень змінних."
   ]
  },
  {
   "cell_type": "code",
   "execution_count": 7,
   "id": "9d7e1690",
   "metadata": {
    "pycharm": {
     "name": "#%%\n"
    }
   },
   "outputs": [],
   "source": [
    "a = 101\n",
    "b = 210\n",
    "c = 111\n",
    "d = 402"
   ]
  },
  {
   "cell_type": "code",
   "execution_count": 8,
   "id": "ed141cda",
   "metadata": {},
   "outputs": [
    {
     "data": {
      "text/plain": [
       "85.8731343283582"
      ]
     },
     "execution_count": 8,
     "metadata": {},
     "output_type": "execute_result"
    }
   ],
   "source": [
    "(a + b) * c / d"
   ]
  },
  {
   "cell_type": "markdown",
   "id": "b4183f4f",
   "metadata": {
    "pycharm": {
     "name": "#%% md\n"
    }
   },
   "source": [
    "Очікувана відповідь: 85.8731343283582"
   ]
  },
  {
   "cell_type": "markdown",
   "id": "1e9d3655",
   "metadata": {},
   "source": [
    "5.Якою буде остача від ділення числа 11283 на 89? Обчисліть з допомогою Python."
   ]
  },
  {
   "cell_type": "code",
   "execution_count": 9,
   "id": "def00fa0",
   "metadata": {},
   "outputs": [
    {
     "data": {
      "text/plain": [
       "69"
      ]
     },
     "execution_count": 9,
     "metadata": {},
     "output_type": "execute_result"
    }
   ],
   "source": [
    "11283 % 89"
   ]
  },
  {
   "cell_type": "markdown",
   "id": "bd2491e2",
   "metadata": {},
   "source": [
    "6.Скільки цілих разів поміститься число 89 в 11283? (Або що те саме: який буде результат цілочисельного ділення 11283 на 89?)"
   ]
  },
  {
   "cell_type": "code",
   "execution_count": 10,
   "id": "02e0c7b3",
   "metadata": {},
   "outputs": [
    {
     "data": {
      "text/plain": [
       "126"
      ]
     },
     "execution_count": 10,
     "metadata": {},
     "output_type": "execute_result"
    }
   ],
   "source": [
    "11283 // 89"
   ]
  },
  {
   "cell_type": "markdown",
   "id": "676db6ee",
   "metadata": {
    "ExecuteTime": {
     "end_time": "2022-10-15T22:38:58.278123Z",
     "start_time": "2022-10-15T22:38:58.274895Z"
    },
    "pycharm": {
     "name": "#%% md\n"
    }
   },
   "source": [
    "# Робота з рядками"
   ]
  },
  {
   "cell_type": "markdown",
   "id": "60423850",
   "metadata": {
    "pycharm": {
     "name": "#%% md\n"
    }
   },
   "source": [
    "7.Запишіть у змінну `name` ваше імʼя."
   ]
  },
  {
   "cell_type": "code",
   "execution_count": 11,
   "id": "473006f4",
   "metadata": {
    "pycharm": {
     "name": "#%%\n"
    }
   },
   "outputs": [],
   "source": [
    "name = 'Natalie'"
   ]
  },
  {
   "cell_type": "markdown",
   "id": "4b3acd9d",
   "metadata": {
    "pycharm": {
     "name": "#%% md\n"
    }
   },
   "source": [
    "8.Запишіть у змінну `surname` ваше прізвище."
   ]
  },
  {
   "cell_type": "code",
   "execution_count": 12,
   "id": "c5defe1b",
   "metadata": {
    "pycharm": {
     "name": "#%%\n"
    }
   },
   "outputs": [],
   "source": [
    "surname = 'Zuieva'"
   ]
  },
  {
   "cell_type": "markdown",
   "id": "ab162f8e",
   "metadata": {
    "pycharm": {
     "name": "#%% md\n"
    }
   },
   "source": [
    "9.Сконкатенуйте імʼя та прізвище в одну фразу через пробіл. Запишіть результат у нову змінну `name_surname` та виведіть результат на екран.  "
   ]
  },
  {
   "cell_type": "code",
   "execution_count": 13,
   "id": "522d3253",
   "metadata": {
    "pycharm": {
     "name": "#%%\n"
    },
    "scrolled": true
   },
   "outputs": [
    {
     "data": {
      "text/plain": [
       "'Natalie Zuieva'"
      ]
     },
     "execution_count": 13,
     "metadata": {},
     "output_type": "execute_result"
    }
   ],
   "source": [
    "name + ' ' + surname"
   ]
  },
  {
   "cell_type": "code",
   "execution_count": 14,
   "id": "c597d5b4",
   "metadata": {},
   "outputs": [],
   "source": [
    "name_surname = name + ' ' + surname"
   ]
  },
  {
   "cell_type": "code",
   "execution_count": 15,
   "id": "f214cbbc",
   "metadata": {},
   "outputs": [
    {
     "data": {
      "text/plain": [
       "'Natalie Zuieva'"
      ]
     },
     "execution_count": 15,
     "metadata": {},
     "output_type": "execute_result"
    }
   ],
   "source": [
    "name_surname"
   ]
  },
  {
   "cell_type": "markdown",
   "id": "77e679dd",
   "metadata": {
    "pycharm": {
     "name": "#%% md\n"
    }
   },
   "source": [
    "Очікувана відповідь (тільки з вашими даними): 'Hanna Pylieva' "
   ]
  },
  {
   "cell_type": "markdown",
   "id": "e68adcf7",
   "metadata": {
    "pycharm": {
     "name": "#%% md\n"
    }
   },
   "source": [
    "10.Зробіть усі літери змінної `name_surname` заглавними використовуючи метод рядків в Python:"
   ]
  },
  {
   "cell_type": "code",
   "execution_count": 16,
   "id": "1047cda3",
   "metadata": {
    "pycharm": {
     "name": "#%%\n"
    }
   },
   "outputs": [
    {
     "data": {
      "text/plain": [
       "'NATALIE ZUIEVA'"
      ]
     },
     "execution_count": 16,
     "metadata": {},
     "output_type": "execute_result"
    }
   ],
   "source": [
    "name_surname.upper()"
   ]
  },
  {
   "cell_type": "markdown",
   "id": "20a20420",
   "metadata": {
    "pycharm": {
     "name": "#%% md\n"
    }
   },
   "source": [
    "Очікувана відповідь (тільки з вашими даними): 'HANNA PYLIEVA'"
   ]
  },
  {
   "cell_type": "markdown",
   "id": "e7e1c7ae",
   "metadata": {
    "pycharm": {
     "name": "#%% md\n"
    }
   },
   "source": [
    "11.Виведіть третю літеру вашого `name_surname`. Тут уважно, треба саме третя літера. Згадайте, з якого значення починається індексування значень в Python."
   ]
  },
  {
   "cell_type": "code",
   "execution_count": 17,
   "id": "191baf85",
   "metadata": {
    "pycharm": {
     "name": "#%%\n"
    }
   },
   "outputs": [
    {
     "data": {
      "text/plain": [
       "'t'"
      ]
     },
     "execution_count": 17,
     "metadata": {},
     "output_type": "execute_result"
    }
   ],
   "source": [
    "name_surname[2]"
   ]
  },
  {
   "cell_type": "markdown",
   "id": "181c489d",
   "metadata": {
    "pycharm": {
     "name": "#%% md\n"
    }
   },
   "source": [
    "Очікувана відповідь (тільки з вашими даними): 'n'"
   ]
  },
  {
   "cell_type": "markdown",
   "id": "1f3cc1a7",
   "metadata": {
    "pycharm": {
     "name": "#%% md\n"
    }
   },
   "source": [
    "12.Виведіть першу та останню літеру вашого прізвища."
   ]
  },
  {
   "cell_type": "code",
   "execution_count": 18,
   "id": "8bd9094c",
   "metadata": {},
   "outputs": [
    {
     "data": {
      "text/plain": [
       "'Z,a'"
      ]
     },
     "execution_count": 18,
     "metadata": {},
     "output_type": "execute_result"
    }
   ],
   "source": [
    "surname[0] + ',' + surname[len(surname) - 1]"
   ]
  },
  {
   "cell_type": "markdown",
   "id": "df1b4a52",
   "metadata": {
    "pycharm": {
     "name": "#%% md\n"
    }
   },
   "source": [
    "Очікувана відповідь (тільки з вашими даними): ('P', 'a')"
   ]
  },
  {
   "cell_type": "markdown",
   "id": "0ad4f21f",
   "metadata": {
    "pycharm": {
     "name": "#%% md\n"
    }
   },
   "source": [
    "13.Виведіть довжину вашого прізвища."
   ]
  },
  {
   "cell_type": "code",
   "execution_count": 19,
   "id": "8aadf013",
   "metadata": {
    "pycharm": {
     "name": "#%%\n"
    },
    "scrolled": true
   },
   "outputs": [
    {
     "data": {
      "text/plain": [
       "6"
      ]
     },
     "execution_count": 19,
     "metadata": {},
     "output_type": "execute_result"
    }
   ],
   "source": [
    "len(surname)"
   ]
  },
  {
   "cell_type": "markdown",
   "id": "ec1a8d38",
   "metadata": {
    "pycharm": {
     "name": "#%% md\n"
    }
   },
   "source": [
    "Очікувана відповідь (тільки з вашими даними): 7"
   ]
  },
  {
   "cell_type": "markdown",
   "id": "fc4ee632",
   "metadata": {
    "pycharm": {
     "name": "#%% md\n"
    }
   },
   "source": [
    "14.Виведіть кількість літер `a` у столиці Мадагаскару `Antananarivo`. Важливо врахувати всі літери, як великі, так і маленькі."
   ]
  },
  {
   "cell_type": "code",
   "execution_count": 22,
   "id": "4c83c237",
   "metadata": {
    "pycharm": {
     "name": "#%%\n"
    }
   },
   "outputs": [],
   "source": [
    "m = 'Antananarivo'"
   ]
  },
  {
   "cell_type": "code",
   "execution_count": 36,
   "id": "17b62f0a",
   "metadata": {
    "scrolled": false
   },
   "outputs": [
    {
     "data": {
      "text/plain": [
       "'antananarivo'"
      ]
     },
     "execution_count": 36,
     "metadata": {},
     "output_type": "execute_result"
    }
   ],
   "source": [
    "m.lower()"
   ]
  },
  {
   "cell_type": "code",
   "execution_count": 48,
   "id": "9800838e",
   "metadata": {},
   "outputs": [
    {
     "name": "stdout",
     "output_type": "stream",
     "text": [
      "4\n"
     ]
    }
   ],
   "source": [
    "print(m.count('a') + m.count('A'))"
   ]
  },
  {
   "cell_type": "markdown",
   "id": "3b822954",
   "metadata": {
    "pycharm": {
     "name": "#%% md\n"
    }
   },
   "source": [
    "Очікувана відповідь: 4"
   ]
  },
  {
   "cell_type": "markdown",
   "id": "3d7ff9aa",
   "metadata": {
    "ExecuteTime": {
     "end_time": "2023-05-28T22:53:18.824389Z",
     "start_time": "2023-05-28T22:53:18.816117Z"
    }
   },
   "source": [
    "15.Створіть рядок `my_string` зі значенням: \"The quick brown fox jumps over the lazy dog!!!\".   \n",
    "Перевірте, чи починається рядок `my_string` з \"The\" і чи закінчується він \"dog!\". Виведіть результати на екран."
   ]
  },
  {
   "cell_type": "code",
   "execution_count": 41,
   "id": "00c6af56",
   "metadata": {},
   "outputs": [],
   "source": [
    "my_string = \"The quick brown fox jumps over the lazy dog!!!\""
   ]
  },
  {
   "cell_type": "code",
   "execution_count": 43,
   "id": "38ee1c2e",
   "metadata": {},
   "outputs": [
    {
     "name": "stdout",
     "output_type": "stream",
     "text": [
      "True\n",
      "False\n"
     ]
    }
   ],
   "source": [
    "print(my_string.startswith('The'))\n",
    "print(my_string.endswith('dog!'))"
   ]
  },
  {
   "cell_type": "markdown",
   "id": "49725d46",
   "metadata": {},
   "source": [
    "16.Розділіть рядок `my_string` на список слів, а потім з'єднайте всі слова через нижнє підкреслювання. Виведіть результат на екран."
   ]
  },
  {
   "cell_type": "code",
   "execution_count": 44,
   "id": "13e3d90a",
   "metadata": {},
   "outputs": [
    {
     "name": "stdout",
     "output_type": "stream",
     "text": [
      "['The', 'quick', 'brown', 'fox', 'jumps', 'over', 'the', 'lazy', 'dog!!!']\n"
     ]
    }
   ],
   "source": [
    "print(my_string.split())"
   ]
  },
  {
   "cell_type": "code",
   "execution_count": 47,
   "id": "1335e28f",
   "metadata": {},
   "outputs": [
    {
     "data": {
      "text/plain": [
       "'The_quick_brown_fox_jumps_over_the_lazy_dog!!!'"
      ]
     },
     "execution_count": 47,
     "metadata": {},
     "output_type": "execute_result"
    }
   ],
   "source": [
    "'_'.join(['The', 'quick', 'brown', 'fox', 'jumps', 'over', 'the', 'lazy', 'dog!!!'])"
   ]
  },
  {
   "cell_type": "markdown",
   "id": "5803bd7c",
   "metadata": {},
   "source": [
    "Очікуваний результат: `The_quick_brown_fox_jumps_over_the_lazy_dog!!!`"
   ]
  },
  {
   "cell_type": "markdown",
   "id": "8365109c",
   "metadata": {
    "pycharm": {
     "name": "#%% md\n"
    }
   },
   "source": [
    "# Робота зі колекціями"
   ]
  },
  {
   "cell_type": "markdown",
   "id": "efd4a344",
   "metadata": {
    "pycharm": {
     "name": "#%% md\n"
    }
   },
   "source": [
    "У нас є наступний список:"
   ]
  },
  {
   "cell_type": "code",
   "execution_count": 11,
   "id": "33f9a114",
   "metadata": {
    "ExecuteTime": {
     "end_time": "2023-05-28T22:45:54.832906Z",
     "start_time": "2023-05-28T22:45:54.827613Z"
    },
    "pycharm": {
     "name": "#%%\n"
    }
   },
   "outputs": [],
   "source": [
    "my_list = [\n",
    "    78, 12, 14, 27, 47, 28, 51, 46, 94, 37, 42, 20, 52, 33, 11, 11, 51,\n",
    "    20, 81, 54, 86, 51, 38, 42, 49, 99, 76, 17,  9, 23, 97, 29, 29, 63,\n",
    "    40, 11, 31, 76, 15, 21, 29, 75, 35,  2, 10, 71, 17, 10, 13,  7, 44,\n",
    "    12, 19, 61, 13, 25, 62, 46, 10, 44, 75, 57, 20, 57,  3, 44, 16, 28,\n",
    "    79, 57, 62, 70, 95,  8, 47, 82, 80, 45, 36, 44, 79, 95, 73, 42, 29,\n",
    "    83, 80, 66, 56,  8, 73,  5, 99, 65, 65, 98, 17, 36, 16, 60\n",
    "]"
   ]
  },
  {
   "cell_type": "markdown",
   "id": "77d55ecf",
   "metadata": {
    "pycharm": {
     "name": "#%% md\n"
    }
   },
   "source": [
    "Будемо з ним працювати в наступних завданнях."
   ]
  },
  {
   "cell_type": "markdown",
   "id": "7a9d114b",
   "metadata": {
    "pycharm": {
     "name": "#%% md\n"
    }
   },
   "source": [
    "17.Виведіть 5 перших елементів списку `my_list` з допомогою слайсингу."
   ]
  },
  {
   "cell_type": "code",
   "execution_count": 7,
   "id": "1a6e26e9",
   "metadata": {
    "pycharm": {
     "name": "#%%\n"
    }
   },
   "outputs": [
    {
     "data": {
      "text/plain": [
       "[78, 12, 14, 27, 47]"
      ]
     },
     "execution_count": 7,
     "metadata": {},
     "output_type": "execute_result"
    }
   ],
   "source": [
    "my_list [:5]"
   ]
  },
  {
   "cell_type": "markdown",
   "id": "0c995ae4",
   "metadata": {
    "pycharm": {
     "name": "#%% md\n"
    }
   },
   "source": [
    "Очікувана відповідь: [78, 12, 14, 27, 47]"
   ]
  },
  {
   "cell_type": "markdown",
   "id": "3cd8551a",
   "metadata": {
    "ExecuteTime": {
     "end_time": "2023-05-28T22:46:26.546845Z",
     "start_time": "2023-05-28T22:46:26.540558Z"
    }
   },
   "source": [
    "18.Виведіть 3 останніх елементи списку `my_list` з допомогою слайсингу."
   ]
  },
  {
   "cell_type": "code",
   "execution_count": 9,
   "id": "1f19fd19",
   "metadata": {},
   "outputs": [
    {
     "data": {
      "text/plain": [
       "[36, 16, 60]"
      ]
     },
     "execution_count": 9,
     "metadata": {},
     "output_type": "execute_result"
    }
   ],
   "source": [
    "my_list [-3:]"
   ]
  },
  {
   "cell_type": "markdown",
   "id": "58a98ef0",
   "metadata": {
    "pycharm": {
     "name": "#%% md\n"
    }
   },
   "source": [
    "19.Виведіть максимальний і мінімальний елемент у списку. Сформуйте відповідь у наступному форматі\n",
    "```\n",
    "Max element  <число>\n",
    "Max element  <число>\n",
    "```"
   ]
  },
  {
   "cell_type": "code",
   "execution_count": 27,
   "id": "008f459c",
   "metadata": {
    "pycharm": {
     "name": "#%%\n"
    }
   },
   "outputs": [
    {
     "name": "stdout",
     "output_type": "stream",
     "text": [
      "Max element 99\n",
      "Min element 2\n"
     ]
    }
   ],
   "source": [
    "print ('Max element', max(my_list))\n",
    "print ('Min element', min(my_list))"
   ]
  },
  {
   "cell_type": "markdown",
   "id": "c19c1cf7",
   "metadata": {
    "pycharm": {
     "name": "#%% md\n"
    }
   },
   "source": [
    "Очікувана відповідь: \n",
    "\n",
    "```\n",
    "Max element  99\n",
    "Max element  2\n",
    "```"
   ]
  },
  {
   "cell_type": "markdown",
   "id": "4e43e698",
   "metadata": {
    "pycharm": {
     "name": "#%% md\n"
    }
   },
   "source": [
    "20.Створіть новий список `my_list_2`, який містить кожен 11-й елемент списку `my_list`. Виведіть `my_list_2` на екран.  \n",
    "Памʼятаємо, що перший з \"кожного одинадцятого улементу\" списку має індекс 10.\n",
    "Це завдання можна виконати як з використанням циклів, так і з використанням слайсингу."
   ]
  },
  {
   "cell_type": "code",
   "execution_count": 64,
   "id": "5b4c4729",
   "metadata": {
    "pycharm": {
     "name": "#%%\n"
    }
   },
   "outputs": [],
   "source": [
    "\n"
   ]
  },
  {
   "cell_type": "code",
   "execution_count": 2,
   "id": "8143363d",
   "metadata": {},
   "outputs": [],
   "source": [
    "my_list_2 = (my_list[10::11])"
   ]
  },
  {
   "cell_type": "code",
   "execution_count": 3,
   "id": "71ac91ae",
   "metadata": {},
   "outputs": [
    {
     "data": {
      "text/plain": [
       "[42, 51, 29, 2, 13, 44, 80, 66, 16]"
      ]
     },
     "execution_count": 3,
     "metadata": {},
     "output_type": "execute_result"
    }
   ],
   "source": [
    "my_list_2"
   ]
  },
  {
   "cell_type": "markdown",
   "id": "0c734831",
   "metadata": {
    "ExecuteTime": {
     "end_time": "2023-01-20T20:10:37.303981Z",
     "start_time": "2023-01-20T20:10:37.275706Z"
    },
    "pycharm": {
     "name": "#%%\n"
    }
   },
   "source": [
    "Очікуваний результат: `[42, 51, 29, 2, 13, 44, 80, 66, 16]`"
   ]
  },
  {
   "cell_type": "markdown",
   "id": "60fab123",
   "metadata": {},
   "source": [
    "## ВИ - МОЛОДЕЦЬ! ЗРОБИЛИ 20 ЗАВДАНЬ!\n",
    "Далі завдання будуть трохи складніше. Деколи в завданнях треба буде написати цикл або list comprehension. Але я впевнена, що у Вас все вийде!"
   ]
  },
  {
   "cell_type": "markdown",
   "id": "fca24ff1",
   "metadata": {
    "pycharm": {
     "name": "#%% md\n"
    }
   },
   "source": [
    "21.Створіть новий список `my_list_2_squared`, де кожен елемент списку `my_list_2` є піднесеним до степіня 2. "
   ]
  },
  {
   "cell_type": "code",
   "execution_count": 9,
   "id": "eae34a39",
   "metadata": {
    "scrolled": true
   },
   "outputs": [],
   "source": [
    "my_list_2_squared = []\n",
    "for item in my_list_2:\n",
    "    my_list_2_squared.append(item ** 2)\n",
    "    "
   ]
  },
  {
   "cell_type": "code",
   "execution_count": 10,
   "id": "f35931f4",
   "metadata": {},
   "outputs": [
    {
     "data": {
      "text/plain": [
       "[1764, 2601, 841, 4, 169, 1936, 6400, 4356, 256]"
      ]
     },
     "execution_count": 10,
     "metadata": {},
     "output_type": "execute_result"
    }
   ],
   "source": [
    "my_list_2_squared"
   ]
  },
  {
   "cell_type": "markdown",
   "id": "37f5fab3",
   "metadata": {},
   "source": []
  },
  {
   "cell_type": "markdown",
   "id": "0dce0d8e",
   "metadata": {
    "pycharm": {
     "name": "#%% md\n"
    }
   },
   "source": [
    "Очікуваний результат: `[1764, 2601, 841, 4, 169, 1936, 6400, 4356, 256]`"
   ]
  },
  {
   "cell_type": "markdown",
   "id": "c267a553",
   "metadata": {
    "pycharm": {
     "name": "#%% md\n"
    }
   },
   "source": [
    "22.Знайдіть суму всіх елементів списку `my_list_2` та виведіть її на екран."
   ]
  },
  {
   "cell_type": "code",
   "execution_count": 54,
   "id": "7f37b29f",
   "metadata": {
    "pycharm": {
     "name": "#%%\n"
    }
   },
   "outputs": [
    {
     "name": "stdout",
     "output_type": "stream",
     "text": [
      "343\n"
     ]
    }
   ],
   "source": [
    "print (sum(my_list_2))"
   ]
  },
  {
   "cell_type": "markdown",
   "id": "b12acfc2",
   "metadata": {
    "pycharm": {
     "name": "#%% md\n"
    }
   },
   "source": [
    "23.Знайдіть середнє значення елементів списку `my_list_2`, збережіть результат у змінну `my_list_2_mean`. Виведіть новостворену змінну та ії тип на екран.\n",
    "**Підказка**: середнє значення - це сума елементів поділена на їх кількість. А кількість елементів в списку - це його довжина."
   ]
  },
  {
   "cell_type": "code",
   "execution_count": 28,
   "id": "51fbb32b",
   "metadata": {
    "pycharm": {
     "name": "#%%\n"
    }
   },
   "outputs": [],
   "source": [
    "my_list_2_mean = sum(my_list_2) / len(my_list_2)"
   ]
  },
  {
   "cell_type": "code",
   "execution_count": 29,
   "id": "c7eb45a0",
   "metadata": {},
   "outputs": [
    {
     "data": {
      "text/plain": [
       "38.111111111111114"
      ]
     },
     "execution_count": 29,
     "metadata": {},
     "output_type": "execute_result"
    }
   ],
   "source": [
    "my_list_2_mean"
   ]
  },
  {
   "cell_type": "code",
   "execution_count": 12,
   "id": "422b7d7a",
   "metadata": {},
   "outputs": [
    {
     "data": {
      "text/plain": [
       "float"
      ]
     },
     "execution_count": 12,
     "metadata": {},
     "output_type": "execute_result"
    }
   ],
   "source": [
    "type(my_list_2_mean)"
   ]
  },
  {
   "cell_type": "markdown",
   "id": "079359aa",
   "metadata": {
    "pycharm": {
     "name": "#%% md\n"
    }
   },
   "source": [
    "24.Створіть новий список `my_list_2_gt_mean`, за наступним правилом: \"якщо цей елемент спиcку `my_list_2` є більше за `my_list_2_mean`, то запишемо 1, інакше 0. Виведіть новий список на екран."
   ]
  },
  {
   "cell_type": "code",
   "execution_count": 42,
   "id": "6e69be6f",
   "metadata": {
    "pycharm": {
     "name": "#%%\n"
    }
   },
   "outputs": [],
   "source": [
    "my_list_2_gt_mean = []\n",
    "for el in my_list_2 :\n",
    "    if el > my_list_2_mean:\n",
    "        my_list_2_gt_mean.append(1)\n",
    "    else:\n",
    "        my_list_2_gt_mean.append(0)"
   ]
  },
  {
   "cell_type": "code",
   "execution_count": 43,
   "id": "1d85b6c3",
   "metadata": {},
   "outputs": [
    {
     "data": {
      "text/plain": [
       "[1, 1, 0, 0, 0, 1, 1, 1, 0]"
      ]
     },
     "execution_count": 43,
     "metadata": {},
     "output_type": "execute_result"
    }
   ],
   "source": [
    "my_list_2_gt_mean"
   ]
  },
  {
   "cell_type": "markdown",
   "id": "3079f1e6",
   "metadata": {},
   "source": [
    "Очікуваний результат: `[1, 1, 0, 0, 0, 1, 1, 1, 0]`"
   ]
  },
  {
   "cell_type": "markdown",
   "id": "eef1aae7",
   "metadata": {
    "pycharm": {
     "name": "#%% md\n"
    }
   },
   "source": [
    "25.Чи є в списку `my_list` елементи, які повторюються? Перевірте це програмно і з допомогою інструкцій `if ... else` виведіть на екран відповідь \"Так, є елементи, які повторюються\", або \"Ні, всі елементи унікальні\".\n",
    "Важливо це зробити без використання імпортів будь-яких бібліотек, на чистому Python так би мовити."
   ]
  },
  {
   "cell_type": "code",
   "execution_count": 17,
   "id": "766170f3",
   "metadata": {
    "pycharm": {
     "name": "#%%\n"
    }
   },
   "outputs": [
    {
     "data": {
      "text/plain": [
       "100"
      ]
     },
     "execution_count": 17,
     "metadata": {},
     "output_type": "execute_result"
    }
   ],
   "source": [
    "len(my_list)"
   ]
  },
  {
   "cell_type": "code",
   "execution_count": 19,
   "id": "c0a8f9e0",
   "metadata": {},
   "outputs": [],
   "source": [
    "myset = set(my_list)"
   ]
  },
  {
   "cell_type": "code",
   "execution_count": 29,
   "id": "878051e9",
   "metadata": {},
   "outputs": [
    {
     "data": {
      "text/plain": [
       "63"
      ]
     },
     "execution_count": 29,
     "metadata": {},
     "output_type": "execute_result"
    }
   ],
   "source": [
    "len(myset)"
   ]
  },
  {
   "cell_type": "code",
   "execution_count": 30,
   "id": "288d98f6",
   "metadata": {},
   "outputs": [
    {
     "name": "stdout",
     "output_type": "stream",
     "text": [
      "Так, є елементи, які повторюються\n"
     ]
    }
   ],
   "source": [
    "if len(my_list) != len(myset) :\n",
    "    print('Так, є елементи, які повторюються')\n",
    "else :\n",
    "    print('Ні, всі елементи унікальні')"
   ]
  },
  {
   "cell_type": "markdown",
   "id": "cee3dda8",
   "metadata": {
    "pycharm": {
     "name": "#%% md\n"
    }
   },
   "source": [
    "26.Для кожного унікального елементу списку `my_list` знайдіть, скільки разів він повторюється, та запишіть сукупний результат для всіх елементів (тобто скільки разів повторюється кожен елемент) у змінну `n_repeats`. Виведіть `n_repeats` на екран. \n",
    "\n",
    "**Підказка**: `n_repeats` матиме тип \"словник\". Порядок ключів в словнику не має значення! Тобто ключі в словнику не обовʼязково мають бути в тому ж порядку, як наведено в прикладі результату. Але кількості зустрічань для кожного елемента мають співпадати з наведеними. "
   ]
  },
  {
   "cell_type": "code",
   "execution_count": 36,
   "id": "129111b7",
   "metadata": {
    "pycharm": {
     "name": "#%%\n"
    }
   },
   "outputs": [],
   "source": [
    "n_repeats = {}\n",
    "\n",
    "for el in my_list:\n",
    "    if el in n_repeats:\n",
    "        n_repeats[el] += 1\n",
    "    else:\n",
    "        n_repeats[el] = 1"
   ]
  },
  {
   "cell_type": "code",
   "execution_count": 38,
   "id": "6a84ea1a",
   "metadata": {},
   "outputs": [
    {
     "name": "stdout",
     "output_type": "stream",
     "text": [
      "{78: 1, 12: 2, 14: 1, 27: 1, 47: 2, 28: 2, 51: 3, 46: 2, 94: 1, 37: 1, 42: 3, 20: 3, 52: 1, 33: 1, 11: 3, 81: 1, 54: 1, 86: 1, 38: 1, 49: 1, 99: 2, 76: 2, 17: 3, 9: 1, 23: 1, 97: 1, 29: 4, 63: 1, 40: 1, 31: 1, 15: 1, 21: 1, 75: 2, 35: 1, 2: 1, 10: 3, 71: 1, 13: 2, 7: 1, 44: 4, 19: 1, 61: 1, 25: 1, 62: 2, 57: 3, 3: 1, 16: 2, 79: 2, 70: 1, 95: 2, 8: 2, 82: 1, 80: 2, 45: 1, 36: 2, 73: 2, 83: 1, 66: 1, 56: 1, 5: 1, 65: 2, 98: 1, 60: 1}\n"
     ]
    }
   ],
   "source": [
    "print(n_repeats)"
   ]
  },
  {
   "cell_type": "markdown",
   "id": "9858eefd",
   "metadata": {
    "pycharm": {
     "name": "#%% md\n"
    }
   },
   "source": [
    "Очікуваний результат (три крапки - для скорочення, у вас буде виведений повний набір унікальних елементів): \n",
    "```\n",
    "{2: 1, 3: 1, 5: 1, 7: 1, 8: 2, 9: 1, 10: 3, 11: 3, 12: 2, 13: 2, 14: 1, 15: 1, 16: 2, 17: 3, 19: 1, 20: 3, 21: 1, 23: 1, 25: 1, 27: 1, 28: 2, 29: 4, 31: 1, 33: 1, 35: 1, 36: 2, 37: 1, 38: 1, 40: 1, 42: 3, 44: 4, 45: 1, 46: 2, 47: 2, 49: 1, 51: 3, 52: 1, 54: 1, 56: 1, 57: 3, 60: 1, 61: 1, 62: 2, 63: 1, 65: 2, 66: 1, 70: 1, 71: 1, 73: 2, 75: 2, 76: 2, 78: 1, 79: 2, 80: 2, 81: 1, 82: 1, 83: 1, 86: 1, 94: 1, 95: 2, 97: 1, 98: 1, 99: 2}\n",
    "```"
   ]
  },
  {
   "cell_type": "markdown",
   "id": "10c98ea7",
   "metadata": {
    "pycharm": {
     "name": "#%% md\n"
    }
   },
   "source": [
    "27.Знайдіть три найменші **унікальні** елементи в списку `my_list`. Збережіть знайдені елементи в змінну `least_3_my_list`. Виведіть значення змінної `least_3_my_list` на екран."
   ]
  },
  {
   "cell_type": "code",
   "execution_count": 53,
   "id": "8cabdfc7",
   "metadata": {
    "pycharm": {
     "name": "#%%\n"
    }
   },
   "outputs": [
    {
     "name": "stdout",
     "output_type": "stream",
     "text": [
      "[2, 3, 5, 7, 8, 9, 10, 11, 12, 13, 14, 15, 16, 17, 19, 20, 21, 23, 25, 27, 28, 29, 31, 33, 35, 36, 37, 38, 40, 42, 44, 45, 46, 47, 49, 51, 52, 54, 56, 57, 60, 61, 62, 63, 65, 66, 70, 71, 73, 75, 76, 78, 79, 80, 81, 82, 83, 86, 94, 95, 97, 98, 99]\n"
     ]
    }
   ],
   "source": [
    "my_list_unique_numbers = list(set(my_list))\n",
    "print(my_list_unique_numbers)"
   ]
  },
  {
   "cell_type": "code",
   "execution_count": 56,
   "id": "09753c77",
   "metadata": {},
   "outputs": [
    {
     "data": {
      "text/plain": [
       "[2, 3, 5]"
      ]
     },
     "execution_count": 56,
     "metadata": {},
     "output_type": "execute_result"
    }
   ],
   "source": [
    "my_list_unique_numbers[0:3]"
   ]
  },
  {
   "cell_type": "markdown",
   "id": "672d2981",
   "metadata": {
    "pycharm": {
     "name": "#%% md\n"
    }
   },
   "source": [
    "Очікувана відповідь: [2, 3, 5]\n"
   ]
  },
  {
   "cell_type": "markdown",
   "id": "bb70f24a",
   "metadata": {
    "pycharm": {
     "name": "#%% md\n"
    }
   },
   "source": [
    "# Ураа!! Ви завершили перше домашнє завдання!!!  \n",
    "Аби здати ДЗ - залийте ноутбук у гітхаб репозиторій, який ви створили у перші дні навчання на курсі, та додайте посилання на файл у відповідному завданні в Eduflow.\n",
    "Так тримати! 🚀🚀🚀"
   ]
  }
 ],
 "metadata": {
  "kernelspec": {
   "display_name": "Python 3 (ipykernel)",
   "language": "python",
   "name": "python3"
  },
  "language_info": {
   "codemirror_mode": {
    "name": "ipython",
    "version": 3
   },
   "file_extension": ".py",
   "mimetype": "text/x-python",
   "name": "python",
   "nbconvert_exporter": "python",
   "pygments_lexer": "ipython3",
   "version": "3.10.9"
  },
  "toc": {
   "base_numbering": 1,
   "nav_menu": {},
   "number_sections": true,
   "sideBar": true,
   "skip_h1_title": false,
   "title_cell": "Table of Contents",
   "title_sidebar": "Contents",
   "toc_cell": false,
   "toc_position": {},
   "toc_section_display": true,
   "toc_window_display": false
  }
 },
 "nbformat": 4,
 "nbformat_minor": 5
}
